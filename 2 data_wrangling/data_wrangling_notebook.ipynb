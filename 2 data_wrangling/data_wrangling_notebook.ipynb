{
 "cells": [
  {
   "cell_type": "markdown",
   "id": "38ab0301",
   "metadata": {},
   "source": [
    "<center><h1 style=\"font-family: 'Georgia'; color: #f2f2f2; background-color:#800040; padding: 20px;\">Online Store Customer Descriptive Segmentation</h1></center>"
   ]
  },
  {
   "cell_type": "markdown",
   "id": "57a0c8b7",
   "metadata": {},
   "source": [
    "<p style=\"font-family: 'Georgia'; font-size: 16px; font-weight: 800; color: #800040;\">\n",
    "Customer Segmentation by KMeans Clustering.\n",
    "</p>\n",
    "\n",
    "<p style=\"font-family: 'Georgia'; font-size: 14px; font-weight: 500; color: #800040;\">\n",
    "dataset link: https://www.kaggle.com/datasets/yasserh/customer-segmentation-dataset\n",
    "</p>\n",
    "\n",
    "<p style=\"font-family: 'Georgia'; font-size: 14px; font-weight: 500; color: #800040;\">    \n",
    "In this project, we will extract the following features: \n",
    "</p>\n",
    "\n",
    "<ul> \n",
    "    <li style=\"font-family: 'Georgia'; font-size: 14px; color: #800040;\">total purchase amount ---- sum of all orders of a customer (quantity * unit price)</li>\n",
    "    <li style=\"font-family: 'Georgia'; font-size: 14px; color: #800040;\">frequency of purchase ---- how freqently a certain customer id in the customer id column</li>\n",
    "    <li style=\"font-family: 'Georgia'; font-size: 14px; color: #800040;\">recency of purchase ---- will get the most recent date of purchase</li>\n",
    "</ul>\n",
    "\n",
    "<p style=\"font-family: 'Georgia'; font-size: 14px; font-weight: 500; color: #800040;\">    \n",
    "then we will cluster customers using these 3 categories.\n",
    "</p>\n"
   ]
  },
  {
   "cell_type": "markdown",
   "id": "8bb1c005",
   "metadata": {},
   "source": [
    "<h1 style=\"font-family: 'Georgia'; font-size: 24px; color: #008000;\">Preprocessing</h1>"
   ]
  },
  {
   "cell_type": "code",
   "execution_count": 1,
   "id": "9948a5da",
   "metadata": {},
   "outputs": [],
   "source": [
    "# IMPORT LIBRARIES\n",
    "import numpy as np\n",
    "import pandas as pd\n",
    "import matplotlib.pyplot as plt\n",
    "import seaborn as sns \n",
    "\n",
    "from sklearn.cluster import KMeans\n",
    "import warnings"
   ]
  },
  {
   "cell_type": "code",
   "execution_count": 2,
   "id": "446c76f2",
   "metadata": {
    "scrolled": true
   },
   "outputs": [
    {
     "data": {
      "text/html": [
       "<div>\n",
       "<style scoped>\n",
       "    .dataframe tbody tr th:only-of-type {\n",
       "        vertical-align: middle;\n",
       "    }\n",
       "\n",
       "    .dataframe tbody tr th {\n",
       "        vertical-align: top;\n",
       "    }\n",
       "\n",
       "    .dataframe thead th {\n",
       "        text-align: right;\n",
       "    }\n",
       "</style>\n",
       "<table border=\"1\" class=\"dataframe\">\n",
       "  <thead>\n",
       "    <tr style=\"text-align: right;\">\n",
       "      <th></th>\n",
       "      <th>InvoiceNo</th>\n",
       "      <th>StockCode</th>\n",
       "      <th>Quantity</th>\n",
       "      <th>InvoiceDate</th>\n",
       "      <th>UnitPrice</th>\n",
       "      <th>CustomerID</th>\n",
       "    </tr>\n",
       "  </thead>\n",
       "  <tbody>\n",
       "    <tr>\n",
       "      <th>0</th>\n",
       "      <td>566042</td>\n",
       "      <td>22426</td>\n",
       "      <td>16</td>\n",
       "      <td>2011-09-08 13:53:00</td>\n",
       "      <td>2.95</td>\n",
       "      <td>17811.0</td>\n",
       "    </tr>\n",
       "    <tr>\n",
       "      <th>1</th>\n",
       "      <td>555841</td>\n",
       "      <td>21850</td>\n",
       "      <td>1</td>\n",
       "      <td>2011-06-07 12:47:00</td>\n",
       "      <td>4.95</td>\n",
       "      <td>14583.0</td>\n",
       "    </tr>\n",
       "    <tr>\n",
       "      <th>2</th>\n",
       "      <td>549238</td>\n",
       "      <td>22084</td>\n",
       "      <td>6</td>\n",
       "      <td>2011-04-07 11:30:00</td>\n",
       "      <td>2.95</td>\n",
       "      <td>14667.0</td>\n",
       "    </tr>\n",
       "    <tr>\n",
       "      <th>3</th>\n",
       "      <td>572082</td>\n",
       "      <td>21975</td>\n",
       "      <td>24</td>\n",
       "      <td>2011-10-20 14:18:00</td>\n",
       "      <td>0.55</td>\n",
       "      <td>17672.0</td>\n",
       "    </tr>\n",
       "    <tr>\n",
       "      <th>4</th>\n",
       "      <td>581585</td>\n",
       "      <td>21916</td>\n",
       "      <td>24</td>\n",
       "      <td>2011-12-09 12:31:00</td>\n",
       "      <td>0.42</td>\n",
       "      <td>15804.0</td>\n",
       "    </tr>\n",
       "    <tr>\n",
       "      <th>5</th>\n",
       "      <td>574289</td>\n",
       "      <td>23002</td>\n",
       "      <td>24</td>\n",
       "      <td>2011-11-03 15:16:00</td>\n",
       "      <td>0.42</td>\n",
       "      <td>17750.0</td>\n",
       "    </tr>\n",
       "    <tr>\n",
       "      <th>6</th>\n",
       "      <td>556783</td>\n",
       "      <td>23188</td>\n",
       "      <td>24</td>\n",
       "      <td>2011-06-14 13:15:00</td>\n",
       "      <td>1.65</td>\n",
       "      <td>13408.0</td>\n",
       "    </tr>\n",
       "    <tr>\n",
       "      <th>7</th>\n",
       "      <td>544182</td>\n",
       "      <td>85099B</td>\n",
       "      <td>10</td>\n",
       "      <td>2011-02-16 15:13:00</td>\n",
       "      <td>1.95</td>\n",
       "      <td>18257.0</td>\n",
       "    </tr>\n",
       "    <tr>\n",
       "      <th>8</th>\n",
       "      <td>539307</td>\n",
       "      <td>90210D</td>\n",
       "      <td>60</td>\n",
       "      <td>2010-12-16 17:43:00</td>\n",
       "      <td>1.25</td>\n",
       "      <td>13694.0</td>\n",
       "    </tr>\n",
       "    <tr>\n",
       "      <th>9</th>\n",
       "      <td>566285</td>\n",
       "      <td>22499</td>\n",
       "      <td>3</td>\n",
       "      <td>2011-09-11 14:51:00</td>\n",
       "      <td>5.95</td>\n",
       "      <td>13611.0</td>\n",
       "    </tr>\n",
       "  </tbody>\n",
       "</table>\n",
       "</div>"
      ],
      "text/plain": [
       "  InvoiceNo StockCode  Quantity          InvoiceDate  UnitPrice  CustomerID\n",
       "0    566042     22426        16  2011-09-08 13:53:00       2.95     17811.0\n",
       "1    555841     21850         1  2011-06-07 12:47:00       4.95     14583.0\n",
       "2    549238     22084         6  2011-04-07 11:30:00       2.95     14667.0\n",
       "3    572082     21975        24  2011-10-20 14:18:00       0.55     17672.0\n",
       "4    581585     21916        24  2011-12-09 12:31:00       0.42     15804.0\n",
       "5    574289     23002        24  2011-11-03 15:16:00       0.42     17750.0\n",
       "6    556783     23188        24  2011-06-14 13:15:00       1.65     13408.0\n",
       "7    544182    85099B        10  2011-02-16 15:13:00       1.95     18257.0\n",
       "8    539307    90210D        60  2010-12-16 17:43:00       1.25     13694.0\n",
       "9    566285     22499         3  2011-09-11 14:51:00       5.95     13611.0"
      ]
     },
     "execution_count": 2,
     "metadata": {},
     "output_type": "execute_result"
    }
   ],
   "source": [
    "# LOAD DATASET\n",
    "# df = pd.read_excel('customer_segmentation.xlsx')\n",
    "df = pd.read_csv('../datasets/original_datasets/sampled_data_only.csv')\n",
    "df.head(10)"
   ]
  },
  {
   "cell_type": "code",
   "execution_count": 3,
   "id": "588ffebe",
   "metadata": {
    "scrolled": false
   },
   "outputs": [
    {
     "data": {
      "text/plain": [
       "InvoiceNo      0\n",
       "StockCode      0\n",
       "Quantity       0\n",
       "InvoiceDate    0\n",
       "UnitPrice      0\n",
       "CustomerID     0\n",
       "dtype: int64"
      ]
     },
     "execution_count": 3,
     "metadata": {},
     "output_type": "execute_result"
    }
   ],
   "source": [
    "# CHECK NULL VALUES\n",
    "df.isnull().sum()"
   ]
  },
  {
   "cell_type": "markdown",
   "id": "9fb3c5ae",
   "metadata": {},
   "source": [
    "<p style=\"font-family: 'Georgia'; font-size: 14px; color: #800040;\">\n",
    "Since this analysis is primarily focused on customer behavior based on total spending, frequency of purchase, and recency of purchase, and the CustomerID column is the key identifier in this analysis, then it would be advisable to drop rows with missing values in the CustomerID column. This will ensure that we have complete and accurate data for this analysis, which is crucial for generating reliable insights.\n",
    "</p>"
   ]
  },
  {
   "cell_type": "code",
   "execution_count": 4,
   "id": "56863ab7",
   "metadata": {},
   "outputs": [
    {
     "name": "stdout",
     "output_type": "stream",
     "text": [
      "(5000, 6)\n"
     ]
    }
   ],
   "source": [
    "# DROP NULL VALUES\n",
    "df.dropna(inplace=True)\n",
    "print(df.shape)"
   ]
  },
  {
   "cell_type": "code",
   "execution_count": 5,
   "id": "a6e8d3c7",
   "metadata": {
    "scrolled": true
   },
   "outputs": [
    {
     "data": {
      "text/plain": [
       "0"
      ]
     },
     "execution_count": 5,
     "metadata": {},
     "output_type": "execute_result"
    }
   ],
   "source": [
    "# CHECK FOR DUPLICATE RECORDS\n",
    "df.duplicated().sum()"
   ]
  },
  {
   "cell_type": "code",
   "execution_count": 6,
   "id": "43fafef7",
   "metadata": {},
   "outputs": [
    {
     "name": "stdout",
     "output_type": "stream",
     "text": [
      "(5000, 6)\n"
     ]
    }
   ],
   "source": [
    "# DROP DUPLICATED VALUES\n",
    "df.drop_duplicates(inplace=True)\n",
    "print(df.shape)"
   ]
  },
  {
   "cell_type": "code",
   "execution_count": 7,
   "id": "8135a70a",
   "metadata": {},
   "outputs": [],
   "source": [
    "# DROP IRRELEVANT COLUMNS\n",
    "# df.drop(['Description', 'Country'], axis=1, inplace=True)"
   ]
  },
  {
   "cell_type": "code",
   "execution_count": 8,
   "id": "929fd66a",
   "metadata": {},
   "outputs": [
    {
     "name": "stdout",
     "output_type": "stream",
     "text": [
      "Index(['InvoiceNo', 'StockCode', 'Quantity', 'InvoiceDate', 'UnitPrice',\n",
      "       'CustomerID'],\n",
      "      dtype='object')\n"
     ]
    }
   ],
   "source": [
    "print(df.columns)"
   ]
  },
  {
   "cell_type": "markdown",
   "id": "66100ed3",
   "metadata": {},
   "source": [
    "<p style=\"font-family: 'Georgia'; font-size: 14px; color: #800040;\">\n",
    "    We decided to drop the Description column because it is the same as StockCode. In store settings, they have SKUs or Stock Keeping Units which allows you to keep track of each individual stock as opposed to have lengthy descriptive words. In this way, tracking is easier and making analyses like theses becomes simpler.\n",
    "</p>\n",
    "<p style=\"font-family: 'Georgia'; font-size: 14px; color: #800040;\">\n",
    "On the other hand, we dropped the country column because we want this analysis to be applicable globally. This only makes perfect sense because online stores are usually not constrained to just domestic customers.\n",
    "</p>"
   ]
  },
  {
   "cell_type": "code",
   "execution_count": 9,
   "id": "085642ec",
   "metadata": {
    "scrolled": true
   },
   "outputs": [
    {
     "name": "stdout",
     "output_type": "stream",
     "text": [
      "Data Shape: (5000, 6)\n"
     ]
    }
   ],
   "source": [
    "# EXAMINE THE DATASET SHAPE\n",
    "print('Data Shape:', df.shape)"
   ]
  },
  {
   "cell_type": "code",
   "execution_count": 10,
   "id": "198c4ad0",
   "metadata": {},
   "outputs": [
    {
     "data": {
      "text/plain": [
       "InvoiceNo       object\n",
       "StockCode       object\n",
       "Quantity         int64\n",
       "InvoiceDate     object\n",
       "UnitPrice      float64\n",
       "CustomerID     float64\n",
       "dtype: object"
      ]
     },
     "execution_count": 10,
     "metadata": {},
     "output_type": "execute_result"
    }
   ],
   "source": [
    "# EXAMINE DATATYPES\n",
    "df.dtypes"
   ]
  },
  {
   "cell_type": "markdown",
   "id": "6989f87c",
   "metadata": {},
   "source": [
    "<p style=\"font-family: 'Georgia'; font-size: 14px; color: #800040;\">\n",
    "CustomerId column should be categorical, so we need to change it.\n",
    "</p>"
   ]
  },
  {
   "cell_type": "code",
   "execution_count": 11,
   "id": "d394573a",
   "metadata": {},
   "outputs": [],
   "source": [
    "# CHANGE DATATYPES\n",
    "df['CustomerID'] = df['CustomerID'].astype('object')"
   ]
  },
  {
   "cell_type": "code",
   "execution_count": 12,
   "id": "fb269e0d",
   "metadata": {},
   "outputs": [
    {
     "data": {
      "text/plain": [
       "InvoiceNo       object\n",
       "StockCode       object\n",
       "Quantity         int64\n",
       "InvoiceDate     object\n",
       "UnitPrice      float64\n",
       "CustomerID      object\n",
       "dtype: object"
      ]
     },
     "execution_count": 12,
     "metadata": {},
     "output_type": "execute_result"
    }
   ],
   "source": [
    "df.dtypes"
   ]
  },
  {
   "cell_type": "markdown",
   "id": "37af3030",
   "metadata": {},
   "source": [
    "<h1 style=\"font-family: 'Georgia'; font-size: 24px; color: #008000;\">Creating a New Data Frame</h1>"
   ]
  },
  {
   "cell_type": "markdown",
   "id": "67d6e12a",
   "metadata": {},
   "source": [
    "<p style=\"font-family: 'Georgia'; font-size: 14px; color: #800040;\">\n",
    "My approach in this analysis is to create a new dataframe, df_new, with the following columns:\n",
    "</p>\n",
    "\n",
    "<p style=\"font-family: 'Georgia'; font-size: 14px; color: #800040; margin-left: 18px;\">\n",
    "1. CustomerID, which are all the unique customers we have in df.\n",
    "</p>\n",
    "\n",
    "<p style=\"font-family: 'Georgia'; font-size: 14px; color: #800040; margin-left: 18px;\">\n",
    "2. Recency of purchase, which we will get from the InvoiceDate mapped for each customer.\n",
    "</p>\n",
    "\n",
    "<p style=\"font-family: 'Georgia'; font-size: 14px; color: #800040; margin-left: 18px;\">\n",
    "3. Frequecy of purchase, which we will get from counting the Invoice records for each individual customer.\n",
    "</p>\n",
    "\n",
    "<p style=\"font-family: 'Georgia'; font-size: 14px; color: #800040; margin-left: 18px;\">\n",
    "4. Total Amount Purchased, which will be obtained by summing the total amounts spent by the customer on all the products they have purchased. Each component in this sum is calculated as the product of the quantity purchased and the unit price of each item.\n",
    "</p>\n",
    "\n",
    "<p style=\"font-family: 'Georgia'; font-size: 14px; color: #800040;\">\n",
    "This is a possible approach because in the data we have, each customer is tracked individually. They have a known identifier. In this way, we can tell which group of customers behave the same way.\n",
    "</p>"
   ]
  },
  {
   "cell_type": "code",
   "execution_count": 23,
   "id": "98c05f6e",
   "metadata": {},
   "outputs": [],
   "source": [
    "# USE A PANDAS SERIES TO STORE ALL OF UNIQUE CUSTOMERS\n",
    "customers_series = df['CustomerID'].unique()"
   ]
  },
  {
   "cell_type": "markdown",
   "id": "670f0d66",
   "metadata": {},
   "source": [
    "<p style=\"font-family: 'Georgia'; font-size: 14px; color: #800040;\">\n",
    "I thought it will be a great idea to have a list of all unique customers right away so that we just need to reference them later and not find them at the same time of extracting relevant information about them.\n",
    "</p>"
   ]
  },
  {
   "cell_type": "code",
   "execution_count": 24,
   "id": "6fe5053a",
   "metadata": {},
   "outputs": [],
   "source": [
    "# THE FUNCTION THAT WILL GENERATE THE df_new \n",
    "def generate_data_frame(customers_df, df):\n",
    "    extracted_data = []\n",
    "    \n",
    "    for customer_id in customers_df:\n",
    "        specific_customer = df[df['CustomerID'] == customer_id].copy() # check all records for a specific customer\n",
    "        \n",
    "        most_recent = specific_customer['InvoiceDate'].max() # last transaction made\n",
    "        \n",
    "        frequency = specific_customer['InvoiceNo'].nunique() # count the number of transactions a specific customer has\n",
    "        \n",
    "        specific_customer.loc[:, 'TotalPrice'] = specific_customer['Quantity'] * specific_customer['UnitPrice']  # calculate the total spending for each row\n",
    "        total_spending = specific_customer['TotalPrice'].sum()  # sum the total spending for the specific customer\n",
    "        total_spending = \"{:.2f}\".format(total_spending)\n",
    "\n",
    "        extracted_data.append((customer_id, most_recent, frequency, total_spending))\n",
    "        \n",
    "    cleaned_df = pd.DataFrame(columns=['CustomerID', 'MostRecent', 'Frequency', 'TotalSpending'], data=extracted_data)\n",
    "    \n",
    "    return cleaned_df"
   ]
  },
  {
   "cell_type": "code",
   "execution_count": 25,
   "id": "c5f7e4b9",
   "metadata": {
    "scrolled": true
   },
   "outputs": [
    {
     "data": {
      "text/html": [
       "<div>\n",
       "<style scoped>\n",
       "    .dataframe tbody tr th:only-of-type {\n",
       "        vertical-align: middle;\n",
       "    }\n",
       "\n",
       "    .dataframe tbody tr th {\n",
       "        vertical-align: top;\n",
       "    }\n",
       "\n",
       "    .dataframe thead th {\n",
       "        text-align: right;\n",
       "    }\n",
       "</style>\n",
       "<table border=\"1\" class=\"dataframe\">\n",
       "  <thead>\n",
       "    <tr style=\"text-align: right;\">\n",
       "      <th></th>\n",
       "      <th>CustomerID</th>\n",
       "      <th>MostRecent</th>\n",
       "      <th>Frequency</th>\n",
       "      <th>TotalSpending</th>\n",
       "    </tr>\n",
       "  </thead>\n",
       "  <tbody>\n",
       "    <tr>\n",
       "      <th>0</th>\n",
       "      <td>17811.0</td>\n",
       "      <td>2011-12-05 13:46:00</td>\n",
       "      <td>11</td>\n",
       "      <td>196.23</td>\n",
       "    </tr>\n",
       "    <tr>\n",
       "      <th>1</th>\n",
       "      <td>14583.0</td>\n",
       "      <td>2011-07-18 12:53:00</td>\n",
       "      <td>3</td>\n",
       "      <td>12.65</td>\n",
       "    </tr>\n",
       "    <tr>\n",
       "      <th>2</th>\n",
       "      <td>14667.0</td>\n",
       "      <td>2011-11-18 14:23:00</td>\n",
       "      <td>8</td>\n",
       "      <td>154.35</td>\n",
       "    </tr>\n",
       "    <tr>\n",
       "      <th>3</th>\n",
       "      <td>17672.0</td>\n",
       "      <td>2011-10-20 14:18:00</td>\n",
       "      <td>1</td>\n",
       "      <td>26.40</td>\n",
       "    </tr>\n",
       "    <tr>\n",
       "      <th>4</th>\n",
       "      <td>15804.0</td>\n",
       "      <td>2011-12-09 12:31:00</td>\n",
       "      <td>4</td>\n",
       "      <td>72.66</td>\n",
       "    </tr>\n",
       "    <tr>\n",
       "      <th>5</th>\n",
       "      <td>17750.0</td>\n",
       "      <td>2011-12-04 14:09:00</td>\n",
       "      <td>3</td>\n",
       "      <td>48.82</td>\n",
       "    </tr>\n",
       "    <tr>\n",
       "      <th>6</th>\n",
       "      <td>13408.0</td>\n",
       "      <td>2011-10-26 13:28:00</td>\n",
       "      <td>6</td>\n",
       "      <td>270.86</td>\n",
       "    </tr>\n",
       "    <tr>\n",
       "      <th>7</th>\n",
       "      <td>18257.0</td>\n",
       "      <td>2011-02-16 15:13:00</td>\n",
       "      <td>1</td>\n",
       "      <td>19.50</td>\n",
       "    </tr>\n",
       "    <tr>\n",
       "      <th>8</th>\n",
       "      <td>13694.0</td>\n",
       "      <td>2011-11-14 11:11:00</td>\n",
       "      <td>10</td>\n",
       "      <td>896.52</td>\n",
       "    </tr>\n",
       "    <tr>\n",
       "      <th>9</th>\n",
       "      <td>13611.0</td>\n",
       "      <td>2011-09-11 14:51:00</td>\n",
       "      <td>1</td>\n",
       "      <td>17.85</td>\n",
       "    </tr>\n",
       "  </tbody>\n",
       "</table>\n",
       "</div>"
      ],
      "text/plain": [
       "   CustomerID           MostRecent  Frequency TotalSpending\n",
       "0     17811.0  2011-12-05 13:46:00         11        196.23\n",
       "1     14583.0  2011-07-18 12:53:00          3         12.65\n",
       "2     14667.0  2011-11-18 14:23:00          8        154.35\n",
       "3     17672.0  2011-10-20 14:18:00          1         26.40\n",
       "4     15804.0  2011-12-09 12:31:00          4         72.66\n",
       "5     17750.0  2011-12-04 14:09:00          3         48.82\n",
       "6     13408.0  2011-10-26 13:28:00          6        270.86\n",
       "7     18257.0  2011-02-16 15:13:00          1         19.50\n",
       "8     13694.0  2011-11-14 11:11:00         10        896.52\n",
       "9     13611.0  2011-09-11 14:51:00          1         17.85"
      ]
     },
     "execution_count": 25,
     "metadata": {},
     "output_type": "execute_result"
    }
   ],
   "source": [
    "df_new = generate_data_frame(customers_series, df)\n",
    "df_new.head(10)"
   ]
  },
  {
   "cell_type": "code",
   "execution_count": null,
   "id": "05b19079",
   "metadata": {},
   "outputs": [],
   "source": [
    "# SAVE CLEANED DATASET TO CSV\n",
    "df_new.to_csv('../datasets/cleaned_datasets/extracted_data.csv')"
   ]
  },
  {
   "cell_type": "markdown",
   "id": "20e0c02e",
   "metadata": {},
   "source": [
    "<h1 style=\"font-family: 'Georgia'; font-size: 24px; color: #008000;\">Feature Scaling</h1>"
   ]
  },
  {
   "cell_type": "markdown",
   "id": "e7bfaaff",
   "metadata": {},
   "source": [
    "<h1 style=\"font-family: 'Georgia'; font-size: 24px; color: #008000;\">Clustering</h1>"
   ]
  },
  {
   "cell_type": "markdown",
   "id": "25d5e1a1",
   "metadata": {},
   "source": [
    "<h1 style=\"font-family: 'Georgia'; font-size: 24px; color: #008000;\">Visualization</h1>"
   ]
  },
  {
   "cell_type": "markdown",
   "id": "56f36a33",
   "metadata": {},
   "source": [
    "<h1 style=\"font-family: 'Georgia'; font-size: 24px; color: #008000;\">Interpretation</h1>"
   ]
  },
  {
   "cell_type": "markdown",
   "id": "3387fff3",
   "metadata": {},
   "source": [
    "<h1 style=\"font-family: 'Georgia'; font-size: 24px; color: #008000;\">Evaluation</h1>"
   ]
  },
  {
   "cell_type": "code",
   "execution_count": null,
   "id": "f9e4f428",
   "metadata": {},
   "outputs": [],
   "source": []
  },
  {
   "cell_type": "code",
   "execution_count": null,
   "id": "d69ffe8c",
   "metadata": {},
   "outputs": [],
   "source": []
  },
  {
   "cell_type": "code",
   "execution_count": null,
   "id": "d1ee267a",
   "metadata": {},
   "outputs": [],
   "source": []
  },
  {
   "cell_type": "code",
   "execution_count": null,
   "id": "be2bd37c",
   "metadata": {},
   "outputs": [],
   "source": []
  },
  {
   "cell_type": "code",
   "execution_count": null,
   "id": "be15789f",
   "metadata": {},
   "outputs": [],
   "source": []
  },
  {
   "cell_type": "code",
   "execution_count": null,
   "id": "439a6a0a",
   "metadata": {},
   "outputs": [],
   "source": []
  },
  {
   "cell_type": "code",
   "execution_count": null,
   "id": "35094e49",
   "metadata": {},
   "outputs": [],
   "source": []
  },
  {
   "cell_type": "code",
   "execution_count": null,
   "id": "f6256a41",
   "metadata": {},
   "outputs": [],
   "source": []
  },
  {
   "cell_type": "code",
   "execution_count": null,
   "id": "ec7628f7",
   "metadata": {},
   "outputs": [],
   "source": []
  },
  {
   "cell_type": "code",
   "execution_count": null,
   "id": "a8c8dc9c",
   "metadata": {},
   "outputs": [],
   "source": []
  },
  {
   "cell_type": "code",
   "execution_count": null,
   "id": "e216cf1d",
   "metadata": {},
   "outputs": [],
   "source": []
  },
  {
   "cell_type": "code",
   "execution_count": null,
   "id": "3fdacb0a",
   "metadata": {},
   "outputs": [],
   "source": []
  }
 ],
 "metadata": {
  "kernelspec": {
   "display_name": "Python 3 (ipykernel)",
   "language": "python",
   "name": "python3"
  },
  "language_info": {
   "codemirror_mode": {
    "name": "ipython",
    "version": 3
   },
   "file_extension": ".py",
   "mimetype": "text/x-python",
   "name": "python",
   "nbconvert_exporter": "python",
   "pygments_lexer": "ipython3",
   "version": "3.9.16"
  }
 },
 "nbformat": 4,
 "nbformat_minor": 5
}
